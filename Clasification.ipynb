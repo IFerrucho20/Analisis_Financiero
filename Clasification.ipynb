{
  "cells": [
    {
      "cell_type": "markdown",
      "metadata": {
        "id": "kU1X5SNp7vVb"
      },
      "source": [
        "# Importación de datos"
      ]
    },
    {
      "cell_type": "code",
      "execution_count": null,
      "metadata": {
        "colab": {
          "base_uri": "https://localhost:8080/"
        },
        "id": "N25I71plIvHx",
        "outputId": "111dff12-3607-473a-a514-808dbd6621bc"
      },
      "outputs": [
        {
          "output_type": "stream",
          "name": "stdout",
          "text": [
            "Mounted at /content/gdrive\n"
          ]
        }
      ],
      "source": [
        "#Confiduración de Google Drive en Gogle Colab\n",
        "from google.colab import drive\n",
        "drive.mount('/content/gdrive')"
      ]
    },
    {
      "cell_type": "code",
      "execution_count": null,
      "metadata": {
        "id": "2nFF0OHUV7A1"
      },
      "outputs": [],
      "source": [
        "#Importar librerias requeridas\n",
        "import pandas as pd\n",
        "import numpy as np\n",
        "import matplotlib.pyplot as plt\n"
      ]
    },
    {
      "cell_type": "code",
      "execution_count": null,
      "metadata": {
        "colab": {
          "base_uri": "https://localhost:8080/"
        },
        "id": "EiYtPX11Inpc",
        "outputId": "5f848651-e583-4233-cd4c-bab0cc7ed3eb"
      },
      "outputs": [
        {
          "output_type": "execute_result",
          "data": {
            "text/plain": [
              "   id ticker                         name           eva    eva_spd  \\\n",
              "0   1   AAPL                    APPLE INC  80829.151310  48.159316   \n",
              "1   2   MSFT               MICROSOFT CORP  36013.162230  13.581724   \n",
              "2   3   GOOG            ALPHABET INC-CL C  26391.742740   9.339334   \n",
              "3   4   AMZN               AMAZON.COM INC  -8289.172578  -2.674548   \n",
              "4   5  BRK/B  BERKSHIRE HATHAWAY INC-CL B -85871.047610 -12.529865   \n",
              "\n",
              "        mkt_cap  performance  \\\n",
              "0  2.643060e+12            1   \n",
              "1  2.137120e+12            1   \n",
              "2  1.348930e+12            1   \n",
              "3  1.063770e+12            0   \n",
              "4  7.104520e+11            0   \n",
              "\n",
              "                                                text  \n",
              "0  UNITED STATES SECURITIES AND EXCHANGE COMMISSI...  \n",
              "1   UNITED STATES SECURITIES AND EXCHANGE COMMISS...  \n",
              "2  UNITED STATES SECURITIES AND EXCHANGE COMMISSI...  \n",
              "3  Table of Contents UNITED STATES SECURITIES AND...  \n",
              "4    UNITED STATES SECURITIES AND EXCHANGE COMMIS...  "
            ],
            "text/html": [
              "\n",
              "  <div id=\"df-e96e4baf-3787-4344-b447-ad0fbcb423ff\">\n",
              "    <div class=\"colab-df-container\">\n",
              "      <div>\n",
              "<style scoped>\n",
              "    .dataframe tbody tr th:only-of-type {\n",
              "        vertical-align: middle;\n",
              "    }\n",
              "\n",
              "    .dataframe tbody tr th {\n",
              "        vertical-align: top;\n",
              "    }\n",
              "\n",
              "    .dataframe thead th {\n",
              "        text-align: right;\n",
              "    }\n",
              "</style>\n",
              "<table border=\"1\" class=\"dataframe\">\n",
              "  <thead>\n",
              "    <tr style=\"text-align: right;\">\n",
              "      <th></th>\n",
              "      <th>id</th>\n",
              "      <th>ticker</th>\n",
              "      <th>name</th>\n",
              "      <th>eva</th>\n",
              "      <th>eva_spd</th>\n",
              "      <th>mkt_cap</th>\n",
              "      <th>performance</th>\n",
              "      <th>text</th>\n",
              "    </tr>\n",
              "  </thead>\n",
              "  <tbody>\n",
              "    <tr>\n",
              "      <th>0</th>\n",
              "      <td>1</td>\n",
              "      <td>AAPL</td>\n",
              "      <td>APPLE INC</td>\n",
              "      <td>80829.151310</td>\n",
              "      <td>48.159316</td>\n",
              "      <td>2.643060e+12</td>\n",
              "      <td>1</td>\n",
              "      <td>UNITED STATES SECURITIES AND EXCHANGE COMMISSI...</td>\n",
              "    </tr>\n",
              "    <tr>\n",
              "      <th>1</th>\n",
              "      <td>2</td>\n",
              "      <td>MSFT</td>\n",
              "      <td>MICROSOFT CORP</td>\n",
              "      <td>36013.162230</td>\n",
              "      <td>13.581724</td>\n",
              "      <td>2.137120e+12</td>\n",
              "      <td>1</td>\n",
              "      <td>UNITED STATES SECURITIES AND EXCHANGE COMMISS...</td>\n",
              "    </tr>\n",
              "    <tr>\n",
              "      <th>2</th>\n",
              "      <td>3</td>\n",
              "      <td>GOOG</td>\n",
              "      <td>ALPHABET INC-CL C</td>\n",
              "      <td>26391.742740</td>\n",
              "      <td>9.339334</td>\n",
              "      <td>1.348930e+12</td>\n",
              "      <td>1</td>\n",
              "      <td>UNITED STATES SECURITIES AND EXCHANGE COMMISSI...</td>\n",
              "    </tr>\n",
              "    <tr>\n",
              "      <th>3</th>\n",
              "      <td>4</td>\n",
              "      <td>AMZN</td>\n",
              "      <td>AMAZON.COM INC</td>\n",
              "      <td>-8289.172578</td>\n",
              "      <td>-2.674548</td>\n",
              "      <td>1.063770e+12</td>\n",
              "      <td>0</td>\n",
              "      <td>Table of Contents UNITED STATES SECURITIES AND...</td>\n",
              "    </tr>\n",
              "    <tr>\n",
              "      <th>4</th>\n",
              "      <td>5</td>\n",
              "      <td>BRK/B</td>\n",
              "      <td>BERKSHIRE HATHAWAY INC-CL B</td>\n",
              "      <td>-85871.047610</td>\n",
              "      <td>-12.529865</td>\n",
              "      <td>7.104520e+11</td>\n",
              "      <td>0</td>\n",
              "      <td>UNITED STATES SECURITIES AND EXCHANGE COMMIS...</td>\n",
              "    </tr>\n",
              "  </tbody>\n",
              "</table>\n",
              "</div>\n",
              "      <button class=\"colab-df-convert\" onclick=\"convertToInteractive('df-e96e4baf-3787-4344-b447-ad0fbcb423ff')\"\n",
              "              title=\"Convert this dataframe to an interactive table.\"\n",
              "              style=\"display:none;\">\n",
              "        \n",
              "  <svg xmlns=\"http://www.w3.org/2000/svg\" height=\"24px\"viewBox=\"0 0 24 24\"\n",
              "       width=\"24px\">\n",
              "    <path d=\"M0 0h24v24H0V0z\" fill=\"none\"/>\n",
              "    <path d=\"M18.56 5.44l.94 2.06.94-2.06 2.06-.94-2.06-.94-.94-2.06-.94 2.06-2.06.94zm-11 1L8.5 8.5l.94-2.06 2.06-.94-2.06-.94L8.5 2.5l-.94 2.06-2.06.94zm10 10l.94 2.06.94-2.06 2.06-.94-2.06-.94-.94-2.06-.94 2.06-2.06.94z\"/><path d=\"M17.41 7.96l-1.37-1.37c-.4-.4-.92-.59-1.43-.59-.52 0-1.04.2-1.43.59L10.3 9.45l-7.72 7.72c-.78.78-.78 2.05 0 2.83L4 21.41c.39.39.9.59 1.41.59.51 0 1.02-.2 1.41-.59l7.78-7.78 2.81-2.81c.8-.78.8-2.07 0-2.86zM5.41 20L4 18.59l7.72-7.72 1.47 1.35L5.41 20z\"/>\n",
              "  </svg>\n",
              "      </button>\n",
              "      \n",
              "  <style>\n",
              "    .colab-df-container {\n",
              "      display:flex;\n",
              "      flex-wrap:wrap;\n",
              "      gap: 12px;\n",
              "    }\n",
              "\n",
              "    .colab-df-convert {\n",
              "      background-color: #E8F0FE;\n",
              "      border: none;\n",
              "      border-radius: 50%;\n",
              "      cursor: pointer;\n",
              "      display: none;\n",
              "      fill: #1967D2;\n",
              "      height: 32px;\n",
              "      padding: 0 0 0 0;\n",
              "      width: 32px;\n",
              "    }\n",
              "\n",
              "    .colab-df-convert:hover {\n",
              "      background-color: #E2EBFA;\n",
              "      box-shadow: 0px 1px 2px rgba(60, 64, 67, 0.3), 0px 1px 3px 1px rgba(60, 64, 67, 0.15);\n",
              "      fill: #174EA6;\n",
              "    }\n",
              "\n",
              "    [theme=dark] .colab-df-convert {\n",
              "      background-color: #3B4455;\n",
              "      fill: #D2E3FC;\n",
              "    }\n",
              "\n",
              "    [theme=dark] .colab-df-convert:hover {\n",
              "      background-color: #434B5C;\n",
              "      box-shadow: 0px 1px 3px 1px rgba(0, 0, 0, 0.15);\n",
              "      filter: drop-shadow(0px 1px 2px rgba(0, 0, 0, 0.3));\n",
              "      fill: #FFFFFF;\n",
              "    }\n",
              "  </style>\n",
              "\n",
              "      <script>\n",
              "        const buttonEl =\n",
              "          document.querySelector('#df-e96e4baf-3787-4344-b447-ad0fbcb423ff button.colab-df-convert');\n",
              "        buttonEl.style.display =\n",
              "          google.colab.kernel.accessAllowed ? 'block' : 'none';\n",
              "\n",
              "        async function convertToInteractive(key) {\n",
              "          const element = document.querySelector('#df-e96e4baf-3787-4344-b447-ad0fbcb423ff');\n",
              "          const dataTable =\n",
              "            await google.colab.kernel.invokeFunction('convertToInteractive',\n",
              "                                                     [key], {});\n",
              "          if (!dataTable) return;\n",
              "\n",
              "          const docLinkHtml = 'Like what you see? Visit the ' +\n",
              "            '<a target=\"_blank\" href=https://colab.research.google.com/notebooks/data_table.ipynb>data table notebook</a>'\n",
              "            + ' to learn more about interactive tables.';\n",
              "          element.innerHTML = '';\n",
              "          dataTable['output_type'] = 'display_data';\n",
              "          await google.colab.output.renderOutput(dataTable, element);\n",
              "          const docLink = document.createElement('div');\n",
              "          docLink.innerHTML = docLinkHtml;\n",
              "          element.appendChild(docLink);\n",
              "        }\n",
              "      </script>\n",
              "    </div>\n",
              "  </div>\n",
              "  "
            ]
          },
          "metadata": {},
          "execution_count": 3
        }
      ],
      "source": [
        "#Importar datos trusted los cuales ya contienen el texto extraido de los pdfs\n",
        "df = pd.read_csv('/content/gdrive/MyDrive/Maestria/10k_predictor/data/trusted/TrustedDataset.csv')\n",
        "df.head()"
      ]
    },
    {
      "cell_type": "code",
      "execution_count": null,
      "metadata": {
        "colab": {
          "base_uri": "https://localhost:8080/"
        },
        "id": "ScedgIrcUmK7",
        "outputId": "086f0f7c-d138-46a1-d37a-132db9173984"
      },
      "outputs": [
        {
          "output_type": "execute_result",
          "data": {
            "text/plain": [
              "0      UNITED STATES SECURITIES AND EXCHANGE COMMISSI...\n",
              "1       UNITED STATES SECURITIES AND EXCHANGE COMMISS...\n",
              "2      UNITED STATES SECURITIES AND EXCHANGE COMMISSI...\n",
              "3      Table of Contents UNITED STATES SECURITIES AND...\n",
              "4        UNITED STATES SECURITIES AND EXCHANGE COMMIS...\n",
              "                             ...                        \n",
              "491    30/5/23 15:57 https://www .sec.gov/Archives/ed...\n",
              "492    30/5/23 15:56 nwl-20221231 https://www .sec.go...\n",
              "493    30/5/23 15:55 zions-20221231 https://www .sec....\n",
              "494    30/5/23 15:54 UNITED ST ATES https://www .sec....\n",
              "495    30/5/23 15:53 lnc-20221231x10k https://www .se...\n",
              "Name: text, Length: 496, dtype: object"
            ]
          },
          "metadata": {},
          "execution_count": 4
        }
      ],
      "source": [
        "#Crear la variable de interes la cual es una serie de el texto extraido de cada pdf\n",
        "texts = df['text']\n",
        "texts"
      ]
    },
    {
      "cell_type": "markdown",
      "metadata": {
        "id": "yWpiRlWD8E45"
      },
      "source": [
        "# Tokenización y vectorización"
      ]
    },
    {
      "cell_type": "code",
      "execution_count": null,
      "metadata": {
        "colab": {
          "base_uri": "https://localhost:8080/"
        },
        "id": "51nAtkK4ei4w",
        "outputId": "a8cac0c8-66d1-461e-be4c-5826124f6914"
      },
      "outputs": [
        {
          "output_type": "stream",
          "name": "stderr",
          "text": [
            "[nltk_data] Downloading package punkt to /root/nltk_data...\n",
            "[nltk_data]   Unzipping tokenizers/punkt.zip.\n",
            "[nltk_data] Downloading package stopwords to /root/nltk_data...\n",
            "[nltk_data]   Unzipping corpora/stopwords.zip.\n"
          ]
        }
      ],
      "source": [
        "import nltk\n",
        "nltk.download('punkt')\n",
        "nltk.download('stopwords')\n",
        "import os\n",
        "from nltk.corpus import stopwords\n",
        "from nltk.stem import PorterStemmer\n",
        "import re\n",
        "\n",
        "# Convertir el texto a minúsculas\n",
        "texts = [text.lower() for text in texts]\n",
        "texts = [text.replace('http','') for text in texts]\n",
        "\n",
        "def tokenize(text):\n",
        "  # Tokenizar el texto usando el idioma inglés\n",
        "  tokens = nltk.word_tokenize(text, language=\"english\")\n",
        "  # Eliminar las palabras vacías, los espacios y las url\n",
        "  stop_words = set(stopwords.words(\"english\"))\n",
        "  tokens = [token.strip() for token in tokens if token.isalpha() and token not in stop_words and not re.match(r\"https?://\\S+\", token)]\n",
        "  # Eliminar los guiones y las palabras muy cortas o muy largas\n",
        "  tokens = [token.replace(\"-\", \"\") for token in tokens if 2 < len(token) < 18]\n",
        "  tokens = [token for token in tokens if \"https\" not in token]\n",
        "  return tokens\n",
        "\n",
        "# Usar la función para limpiar cada texto en la lista 'pdf_texts'\n",
        "tokens = [tokenize(text) for text in texts]\n",
        "#Volver a unir los tokens para facilitar algunos procesos\n",
        "cleaned_text = [\" \".join(token) for token in tokens]\n",
        "cleaned_text = [text[900:-3000] for text in cleaned_text]"
      ]
    },
    {
      "cell_type": "code",
      "execution_count": null,
      "metadata": {
        "colab": {
          "base_uri": "https://localhost:8080/",
          "height": 337
        },
        "id": "HwqqcDfrzg1x",
        "outputId": "d57a5053-a7f0-4f0d-dd7b-78956b83ce7b"
      },
      "outputs": [
        {
          "output_type": "execute_result",
          "data": {
            "text/plain": [
              "   id ticker                         name           eva    eva_spd  \\\n",
              "0   1   AAPL                    APPLE INC  80829.151310  48.159316   \n",
              "1   2   MSFT               MICROSOFT CORP  36013.162230  13.581724   \n",
              "2   3   GOOG            ALPHABET INC-CL C  26391.742740   9.339334   \n",
              "3   4   AMZN               AMAZON.COM INC  -8289.172578  -2.674548   \n",
              "4   5  BRK/B  BERKSHIRE HATHAWAY INC-CL B -85871.047610 -12.529865   \n",
              "\n",
              "        mkt_cap  performance  \\\n",
              "0  2.643060e+12            1   \n",
              "1  2.137120e+12            1   \n",
              "2  1.348930e+12            1   \n",
              "3  1.063770e+12            0   \n",
              "4  7.104520e+11            0   \n",
              "\n",
              "                                                text  \\\n",
              "0  UNITED STATES SECURITIES AND EXCHANGE COMMISSI...   \n",
              "1   UNITED STATES SECURITIES AND EXCHANGE COMMISS...   \n",
              "2  UNITED STATES SECURITIES AND EXCHANGE COMMISSI...   \n",
              "3  Table of Contents UNITED STATES SECURITIES AND...   \n",
              "4    UNITED STATES SECURITIES AND EXCHANGE COMMIS...   \n",
              "\n",
              "                                        cleaned_text  \\\n",
              "0   due nasdaq stock mark llc notes due nasdaq st...   \n",
              "1  ate check mark whether registrant submitted el...   \n",
              "2  gistrant requir ﬁle reports pursuant section s...   \n",
              "3  led securities exchange act preceding months s...   \n",
              "4  tes due senior notes due senior notes due seni...   \n",
              "\n",
              "                                              tokens  \n",
              "0  [united, states, securities, exchange, commiss...  \n",
              "1  [united, states, securities, exchange, commiss...  \n",
              "2  [united, states, securities, exchange, commiss...  \n",
              "3  [table, contents, united, states, securities, ...  \n",
              "4  [united, states, securities, exchange, commiss...  "
            ],
            "text/html": [
              "\n",
              "  <div id=\"df-30970847-e287-4072-8a49-cb944924f96c\">\n",
              "    <div class=\"colab-df-container\">\n",
              "      <div>\n",
              "<style scoped>\n",
              "    .dataframe tbody tr th:only-of-type {\n",
              "        vertical-align: middle;\n",
              "    }\n",
              "\n",
              "    .dataframe tbody tr th {\n",
              "        vertical-align: top;\n",
              "    }\n",
              "\n",
              "    .dataframe thead th {\n",
              "        text-align: right;\n",
              "    }\n",
              "</style>\n",
              "<table border=\"1\" class=\"dataframe\">\n",
              "  <thead>\n",
              "    <tr style=\"text-align: right;\">\n",
              "      <th></th>\n",
              "      <th>id</th>\n",
              "      <th>ticker</th>\n",
              "      <th>name</th>\n",
              "      <th>eva</th>\n",
              "      <th>eva_spd</th>\n",
              "      <th>mkt_cap</th>\n",
              "      <th>performance</th>\n",
              "      <th>text</th>\n",
              "      <th>cleaned_text</th>\n",
              "      <th>tokens</th>\n",
              "    </tr>\n",
              "  </thead>\n",
              "  <tbody>\n",
              "    <tr>\n",
              "      <th>0</th>\n",
              "      <td>1</td>\n",
              "      <td>AAPL</td>\n",
              "      <td>APPLE INC</td>\n",
              "      <td>80829.151310</td>\n",
              "      <td>48.159316</td>\n",
              "      <td>2.643060e+12</td>\n",
              "      <td>1</td>\n",
              "      <td>UNITED STATES SECURITIES AND EXCHANGE COMMISSI...</td>\n",
              "      <td>due nasdaq stock mark llc notes due nasdaq st...</td>\n",
              "      <td>[united, states, securities, exchange, commiss...</td>\n",
              "    </tr>\n",
              "    <tr>\n",
              "      <th>1</th>\n",
              "      <td>2</td>\n",
              "      <td>MSFT</td>\n",
              "      <td>MICROSOFT CORP</td>\n",
              "      <td>36013.162230</td>\n",
              "      <td>13.581724</td>\n",
              "      <td>2.137120e+12</td>\n",
              "      <td>1</td>\n",
              "      <td>UNITED STATES SECURITIES AND EXCHANGE COMMISS...</td>\n",
              "      <td>ate check mark whether registrant submitted el...</td>\n",
              "      <td>[united, states, securities, exchange, commiss...</td>\n",
              "    </tr>\n",
              "    <tr>\n",
              "      <th>2</th>\n",
              "      <td>3</td>\n",
              "      <td>GOOG</td>\n",
              "      <td>ALPHABET INC-CL C</td>\n",
              "      <td>26391.742740</td>\n",
              "      <td>9.339334</td>\n",
              "      <td>1.348930e+12</td>\n",
              "      <td>1</td>\n",
              "      <td>UNITED STATES SECURITIES AND EXCHANGE COMMISSI...</td>\n",
              "      <td>gistrant requir ﬁle reports pursuant section s...</td>\n",
              "      <td>[united, states, securities, exchange, commiss...</td>\n",
              "    </tr>\n",
              "    <tr>\n",
              "      <th>3</th>\n",
              "      <td>4</td>\n",
              "      <td>AMZN</td>\n",
              "      <td>AMAZON.COM INC</td>\n",
              "      <td>-8289.172578</td>\n",
              "      <td>-2.674548</td>\n",
              "      <td>1.063770e+12</td>\n",
              "      <td>0</td>\n",
              "      <td>Table of Contents UNITED STATES SECURITIES AND...</td>\n",
              "      <td>led securities exchange act preceding months s...</td>\n",
              "      <td>[table, contents, united, states, securities, ...</td>\n",
              "    </tr>\n",
              "    <tr>\n",
              "      <th>4</th>\n",
              "      <td>5</td>\n",
              "      <td>BRK/B</td>\n",
              "      <td>BERKSHIRE HATHAWAY INC-CL B</td>\n",
              "      <td>-85871.047610</td>\n",
              "      <td>-12.529865</td>\n",
              "      <td>7.104520e+11</td>\n",
              "      <td>0</td>\n",
              "      <td>UNITED STATES SECURITIES AND EXCHANGE COMMIS...</td>\n",
              "      <td>tes due senior notes due senior notes due seni...</td>\n",
              "      <td>[united, states, securities, exchange, commiss...</td>\n",
              "    </tr>\n",
              "  </tbody>\n",
              "</table>\n",
              "</div>\n",
              "      <button class=\"colab-df-convert\" onclick=\"convertToInteractive('df-30970847-e287-4072-8a49-cb944924f96c')\"\n",
              "              title=\"Convert this dataframe to an interactive table.\"\n",
              "              style=\"display:none;\">\n",
              "        \n",
              "  <svg xmlns=\"http://www.w3.org/2000/svg\" height=\"24px\"viewBox=\"0 0 24 24\"\n",
              "       width=\"24px\">\n",
              "    <path d=\"M0 0h24v24H0V0z\" fill=\"none\"/>\n",
              "    <path d=\"M18.56 5.44l.94 2.06.94-2.06 2.06-.94-2.06-.94-.94-2.06-.94 2.06-2.06.94zm-11 1L8.5 8.5l.94-2.06 2.06-.94-2.06-.94L8.5 2.5l-.94 2.06-2.06.94zm10 10l.94 2.06.94-2.06 2.06-.94-2.06-.94-.94-2.06-.94 2.06-2.06.94z\"/><path d=\"M17.41 7.96l-1.37-1.37c-.4-.4-.92-.59-1.43-.59-.52 0-1.04.2-1.43.59L10.3 9.45l-7.72 7.72c-.78.78-.78 2.05 0 2.83L4 21.41c.39.39.9.59 1.41.59.51 0 1.02-.2 1.41-.59l7.78-7.78 2.81-2.81c.8-.78.8-2.07 0-2.86zM5.41 20L4 18.59l7.72-7.72 1.47 1.35L5.41 20z\"/>\n",
              "  </svg>\n",
              "      </button>\n",
              "      \n",
              "  <style>\n",
              "    .colab-df-container {\n",
              "      display:flex;\n",
              "      flex-wrap:wrap;\n",
              "      gap: 12px;\n",
              "    }\n",
              "\n",
              "    .colab-df-convert {\n",
              "      background-color: #E8F0FE;\n",
              "      border: none;\n",
              "      border-radius: 50%;\n",
              "      cursor: pointer;\n",
              "      display: none;\n",
              "      fill: #1967D2;\n",
              "      height: 32px;\n",
              "      padding: 0 0 0 0;\n",
              "      width: 32px;\n",
              "    }\n",
              "\n",
              "    .colab-df-convert:hover {\n",
              "      background-color: #E2EBFA;\n",
              "      box-shadow: 0px 1px 2px rgba(60, 64, 67, 0.3), 0px 1px 3px 1px rgba(60, 64, 67, 0.15);\n",
              "      fill: #174EA6;\n",
              "    }\n",
              "\n",
              "    [theme=dark] .colab-df-convert {\n",
              "      background-color: #3B4455;\n",
              "      fill: #D2E3FC;\n",
              "    }\n",
              "\n",
              "    [theme=dark] .colab-df-convert:hover {\n",
              "      background-color: #434B5C;\n",
              "      box-shadow: 0px 1px 3px 1px rgba(0, 0, 0, 0.15);\n",
              "      filter: drop-shadow(0px 1px 2px rgba(0, 0, 0, 0.3));\n",
              "      fill: #FFFFFF;\n",
              "    }\n",
              "  </style>\n",
              "\n",
              "      <script>\n",
              "        const buttonEl =\n",
              "          document.querySelector('#df-30970847-e287-4072-8a49-cb944924f96c button.colab-df-convert');\n",
              "        buttonEl.style.display =\n",
              "          google.colab.kernel.accessAllowed ? 'block' : 'none';\n",
              "\n",
              "        async function convertToInteractive(key) {\n",
              "          const element = document.querySelector('#df-30970847-e287-4072-8a49-cb944924f96c');\n",
              "          const dataTable =\n",
              "            await google.colab.kernel.invokeFunction('convertToInteractive',\n",
              "                                                     [key], {});\n",
              "          if (!dataTable) return;\n",
              "\n",
              "          const docLinkHtml = 'Like what you see? Visit the ' +\n",
              "            '<a target=\"_blank\" href=https://colab.research.google.com/notebooks/data_table.ipynb>data table notebook</a>'\n",
              "            + ' to learn more about interactive tables.';\n",
              "          element.innerHTML = '';\n",
              "          dataTable['output_type'] = 'display_data';\n",
              "          await google.colab.output.renderOutput(dataTable, element);\n",
              "          const docLink = document.createElement('div');\n",
              "          docLink.innerHTML = docLinkHtml;\n",
              "          element.appendChild(docLink);\n",
              "        }\n",
              "      </script>\n",
              "    </div>\n",
              "  </div>\n",
              "  "
            ]
          },
          "metadata": {},
          "execution_count": 6
        }
      ],
      "source": [
        "df['cleaned_text'] = cleaned_text\n",
        "df['tokens'] = tokens\n",
        "df.head()"
      ]
    },
    {
      "cell_type": "code",
      "execution_count": null,
      "metadata": {
        "id": "c7A0SkXy0uRB"
      },
      "outputs": [],
      "source": [
        "from sklearn.feature_extraction.text import TfidfVectorizer\n",
        "from sklearn.preprocessing import StandardScaler\n",
        "\n",
        "# Crear un objeto TfidfVectorizer\n",
        "vectorizador = TfidfVectorizer()\n",
        "\n",
        "# Ajustar el vectorizador con los textos y obtener la matriz TF-IDF\n",
        "matriz_tfidf = vectorizador.fit_transform(cleaned_text)\n",
        "\n",
        "# Obtener los nombres de las características (palabras)\n",
        "nombres_caracteristicas = vectorizador.get_feature_names_out()\n",
        "\n",
        "\n"
      ]
    },
    {
      "cell_type": "markdown",
      "metadata": {
        "id": "cvtw6nZQ7XRL"
      },
      "source": [
        "# Modelo de Regresión lineal"
      ]
    },
    {
      "cell_type": "markdown",
      "metadata": {
        "id": "usCs6RlN6tHI"
      },
      "source": [
        "Ahora creamos el modelo de regresión lineal, para el cual la matriz TF-IDF será nuestra X y el vector performance será nuestra Y:"
      ]
    },
    {
      "cell_type": "code",
      "source": [
        "X = matriz_tfidf\n",
        "Y = df['performance']\n",
        "y = Y"
      ],
      "metadata": {
        "id": "ditLKcbWRlyu"
      },
      "execution_count": null,
      "outputs": []
    },
    {
      "cell_type": "code",
      "source": [
        "matriz_tfidf_dense = matriz_tfidf.toarray()\n",
        "\n",
        "# Dividir la matriz en dos variables\n",
        "X, X_new = np.split(matriz_tfidf_dense, [491])"
      ],
      "metadata": {
        "id": "gmfpL4TgcFVd"
      },
      "execution_count": null,
      "outputs": []
    },
    {
      "cell_type": "code",
      "execution_count": null,
      "metadata": {
        "id": "GvgjdLLb4Qf_",
        "colab": {
          "base_uri": "https://localhost:8080/"
        },
        "outputId": "38ca1204-c55e-4c47-b59b-79ccd5d52cf8"
      },
      "outputs": [
        {
          "output_type": "stream",
          "name": "stdout",
          "text": [
            "Error cuadrático medio (MSE): 0.2448301009294295\n",
            "Coeficiente de determinación (R^2): -0.005049675408166809\n"
          ]
        }
      ],
      "source": [
        "#Crear variable X\n",
        "X = matriz_tfidf\n",
        "# Crear variable Y\n",
        "Y = df['performance']\n",
        "\n",
        "#Separar datos en train y test\n",
        "from sklearn.model_selection import train_test_split\n",
        "X_train, X_test, y_train, y_test = train_test_split(X, Y, test_size=0.2, random_state=42)\n",
        "\n",
        "from sklearn.linear_model import LinearRegression\n",
        "# Crear un objeto de regresión lineal\n",
        "modelo = LinearRegression()\n",
        "# Ajustar el modelo a los datos de entrenamiento\n",
        "modelo.fit(X_train, y_train)\n",
        "\n",
        "from sklearn.metrics import mean_squared_error, r2_score\n",
        "# Realizar predicciones en los datos de prueba\n",
        "y_pred = modelo.predict(X_test)\n",
        "# Calcular el error cuadrático medio (MSE)\n",
        "mse = mean_squared_error(y_test, y_pred)\n",
        "# Calcular el coeficiente de determinación (R^2)\n",
        "r2 = r2_score(y_test, y_pred)\n",
        "\n",
        "print(\"Error cuadrático medio (MSE):\", mse)\n",
        "print(\"Coeficiente de determinación (R^2):\", r2)"
      ]
    },
    {
      "cell_type": "markdown",
      "metadata": {
        "id": "Ph7vskPuDlxa"
      },
      "source": [
        "Cómo podemos ver el modelo de regresion lineal solo explica en un 11% la variabilidad de los datos por lo cual no sirve."
      ]
    },
    {
      "cell_type": "markdown",
      "metadata": {
        "id": "ODdkHc1QDyLS"
      },
      "source": [
        "## Modelo de regresión logistica"
      ]
    },
    {
      "cell_type": "code",
      "execution_count": null,
      "metadata": {
        "id": "yOrKlWlhD1qO",
        "colab": {
          "base_uri": "https://localhost:8080/"
        },
        "outputId": "ef44b0ef-b4f6-48e8-f7c5-3bd0811805a2"
      },
      "outputs": [
        {
          "output_type": "stream",
          "name": "stdout",
          "text": [
            "Accuracy: 0.67\n",
            "Precision: 0.6582278481012658\n",
            "F1 score: 0.759124087591241\n"
          ]
        }
      ],
      "source": [
        "from sklearn.linear_model import LogisticRegression\n",
        "from sklearn.model_selection import train_test_split\n",
        "from sklearn.metrics import accuracy_score, precision_score, recall_score, f1_score\n",
        "\n",
        "#Dividir datos en train y test\n",
        "X_train, X_test, y_train, y_test = train_test_split(X, Y, test_size=0.2, random_state=42)\n",
        "\n",
        "modelo = LogisticRegression()\n",
        "modelo.fit(X_train, y_train)\n",
        "y_pred = modelo.predict(X_test)\n",
        "\n",
        "accuracy_lr = accuracy_score(y_test, y_pred)\n",
        "precision_lr = precision_score(y_test, y_pred)\n",
        "f1score_lr = f1_score(y_test, y_pred)\n",
        "print(\"Accuracy:\", accuracy_lr )\n",
        "print(\"Precision:\", precision_lr)\n",
        "print(\"F1 score:\", f1score_lr)\n",
        "metricas_lr = ('Logistic Regression',accuracy_lr, precision_lr, f1score_lr)"
      ]
    },
    {
      "cell_type": "markdown",
      "metadata": {
        "id": "jyYc5Y10H_z3"
      },
      "source": [
        "## Clasificador Naive Bayes"
      ]
    },
    {
      "cell_type": "code",
      "execution_count": null,
      "metadata": {
        "id": "H_8FX5ZHGWca",
        "colab": {
          "base_uri": "https://localhost:8080/"
        },
        "outputId": "416e6e70-006d-42f8-cf46-1bc9311ac9b5"
      },
      "outputs": [
        {
          "output_type": "stream",
          "name": "stdout",
          "text": [
            "Accuracy: 0.58\n",
            "Precision: 0.58\n",
            "F1 score: 0.7341772151898733\n"
          ]
        }
      ],
      "source": [
        "from sklearn.naive_bayes import MultinomialNB\n",
        "from sklearn.model_selection import train_test_split\n",
        "from sklearn.metrics import accuracy_score, precision_score, recall_score, f1_score\n",
        "\n",
        "#Dividir datos en train y test\n",
        "X_train, X_test, y_train, y_test = train_test_split(X, Y, test_size=0.2, random_state=42)\n",
        "\n",
        "### Implementación de Naive Bayes para la predicción de desempeño \n",
        "nb_clf = MultinomialNB().fit(X_train, y_train)\n",
        "nb_precision = precision_score(y_test, nb_clf.predict(X_test), \n",
        "                               average='weighted', zero_division=1)\n",
        "y_pred_nb = nb_clf.predict(X_test)\n",
        "f1 = f1_score(y_test, y_pred_nb, average='weighted', zero_division=1)\n",
        "accuracy = accuracy_score(y_test, y_pred_nb)\n",
        "\n",
        "accuracy_nb = accuracy_score(y_test, y_pred_nb)\n",
        "precision_nb = precision_score(y_test, y_pred_nb)\n",
        "f1score_nb = f1_score(y_test, y_pred_nb)\n",
        "print(\"Accuracy:\", accuracy_nb )\n",
        "print(\"Precision:\", precision_nb)\n",
        "print(\"F1 score:\", f1score_nb)\n",
        "metricas_nb = ('Naive Bayes', accuracy_nb, precision_nb, f1score_nb)"
      ]
    },
    {
      "cell_type": "markdown",
      "metadata": {
        "id": "C_ZV52LCKBJm"
      },
      "source": [
        "# Support Vector Machine"
      ]
    },
    {
      "cell_type": "code",
      "execution_count": null,
      "metadata": {
        "id": "_pqDDSQqIEwP",
        "colab": {
          "base_uri": "https://localhost:8080/"
        },
        "outputId": "a8063d9b-9215-44e6-c294-10f31b36980e"
      },
      "outputs": [
        {
          "output_type": "stream",
          "name": "stdout",
          "text": [
            "Accuracy: 0.68\n",
            "Precision: 0.6805555555555556\n",
            "F1 score: 0.7538461538461538\n"
          ]
        }
      ],
      "source": [
        "from sklearn.svm import LinearSVC\n",
        "from sklearn.model_selection import train_test_split\n",
        "from sklearn.metrics import accuracy_score, precision_score, recall_score, f1_score\n",
        "\n",
        "#Dividir datos en train y test\n",
        "X_train, X_test, y_train, y_test = train_test_split(X, Y, test_size=0.2, random_state=42)\n",
        "\n",
        "### Implementación de Linear SVC para la predicción de desempeño \n",
        "svc_clf = LinearSVC().fit(X_train, y_train)\n",
        "\n",
        "# Obtener precisión en el conjunto de prueba para LinearSVC\n",
        "svc_precision = precision_score(y_test, \n",
        "                                         svc_clf.predict(X_test), average='weighted', zero_division=1)\n",
        "y_pred_svc = svc_clf.predict(X_test)\n",
        "f1 = f1_score(y_test, y_pred_svc, average='weighted', zero_division=1)\n",
        "accuracy = accuracy_score(y_test, y_pred_svc)\n",
        "\n",
        "accuracy_svc = accuracy_score(y_test, y_pred_svc)\n",
        "precision_svc = precision_score(y_test, y_pred_svc)\n",
        "f1score_svc = f1_score(y_test, y_pred_svc)\n",
        "print(\"Accuracy:\", accuracy_svc )\n",
        "print(\"Precision:\", precision_svc)\n",
        "print(\"F1 score:\", f1score_svc)\n",
        "metricas_svc = ('Support Vector Machine', accuracy_svc, precision_svc, f1score_svc)"
      ]
    },
    {
      "cell_type": "markdown",
      "metadata": {
        "id": "Vvja27LmLIXH"
      },
      "source": [
        "## Decision Tree"
      ]
    },
    {
      "cell_type": "code",
      "execution_count": null,
      "metadata": {
        "id": "ETjWe8GhKFSr",
        "colab": {
          "base_uri": "https://localhost:8080/"
        },
        "outputId": "aca5c431-18ec-42e9-c9a8-7311ba9371a6"
      },
      "outputs": [
        {
          "output_type": "stream",
          "name": "stdout",
          "text": [
            "Accuracy: 0.54\n",
            "Precision: 0.6153846153846154\n",
            "F1 score: 0.5818181818181819\n"
          ]
        }
      ],
      "source": [
        "from sklearn.tree import DecisionTreeClassifier\n",
        "from sklearn.model_selection import train_test_split\n",
        "from sklearn.metrics import accuracy_score, precision_score, recall_score, f1_score\n",
        "\n",
        "#Dividir datos en train y test\n",
        "X_train, X_test, y_train, y_test = train_test_split(X, Y, test_size=0.2, random_state=42)\n",
        "\n",
        "Rt_clf = DecisionTreeClassifier()\n",
        "Rt_clf.fit(X_train, y_train)\n",
        "\n",
        "y_pred_Rt = Rt_clf.predict(X_test)\n",
        "Rt_precision = precision_score(y_test, y_pred_Rt, average='weighted', zero_division=1)\n",
        "f1 = f1_score(y_test, y_pred_Rt, average='weighted', zero_division=1)\n",
        "accuracy = accuracy_score(y_test, y_pred_Rt)\n",
        "\n",
        "accuracy_dt = accuracy_score(y_test, y_pred_Rt)\n",
        "precision_dt = precision_score(y_test, y_pred_Rt)\n",
        "f1score_dt = f1_score(y_test, y_pred_Rt)\n",
        "print(\"Accuracy:\", accuracy_dt )\n",
        "print(\"Precision:\", precision_dt)\n",
        "print(\"F1 score:\", f1score_dt)\n",
        "metricas_dt = ('Decision Tree', accuracy_dt, precision_dt, f1score_dt)"
      ]
    },
    {
      "cell_type": "markdown",
      "metadata": {
        "id": "A2UQIOnpLrsc"
      },
      "source": [
        "## Gradient Boost Classifier"
      ]
    },
    {
      "cell_type": "code",
      "execution_count": null,
      "metadata": {
        "id": "doksBjzfLMYA",
        "colab": {
          "base_uri": "https://localhost:8080/"
        },
        "outputId": "df48d8b2-db8f-4a1c-ff97-030c5970c10a"
      },
      "outputs": [
        {
          "output_type": "stream",
          "name": "stdout",
          "text": [
            "Accuracy: 0.62\n",
            "Precision: 0.6428571428571429\n",
            "F1 score: 0.703125\n"
          ]
        }
      ],
      "source": [
        "from sklearn.ensemble import GradientBoostingClassifier\n",
        "from sklearn.tree import DecisionTreeClassifier\n",
        "from sklearn.model_selection import train_test_split\n",
        "from sklearn.metrics import accuracy_score, precision_score, recall_score, f1_score\n",
        "\n",
        "#Dividir datos en train y test\n",
        "X_train, X_test, y_train, y_test = train_test_split(X, Y, test_size=0.2, random_state=42)\n",
        "\n",
        "Gb_clf = GradientBoostingClassifier()\n",
        "Gb_clf.fit(X_train, y_train)\n",
        "\n",
        "y_pred_Gb = Gb_clf.predict(X_test)\n",
        "Gb_precision = precision_score(y_test, y_pred_Gb, average='weighted', zero_division=1)\n",
        "f1 = f1_score(y_test, y_pred_Gb, average='weighted', zero_division=1)\n",
        "accuracy = accuracy_score(y_test, y_pred_Gb)\n",
        "\n",
        "accuracy_gbc = accuracy_score(y_test, y_pred_Gb)\n",
        "precision_gbc = precision_score(y_test, y_pred_Gb)\n",
        "f1score_gbc = f1_score(y_test, y_pred_Gb)\n",
        "print(\"Accuracy:\", accuracy_gbc )\n",
        "print(\"Precision:\", precision_gbc)\n",
        "print(\"F1 score:\", f1score_gbc)\n",
        "metricas_gbc = ('Gradient Boost Classifier', accuracy_gbc, precision_gbc, f1score_gbc)"
      ]
    },
    {
      "cell_type": "markdown",
      "metadata": {
        "id": "PvDU8FuoLyV_"
      },
      "source": [
        "# ¿Cual modelo es mejor?"
      ]
    },
    {
      "cell_type": "code",
      "execution_count": null,
      "metadata": {
        "id": "wPUgOXJ6MB4j",
        "colab": {
          "base_uri": "https://localhost:8080/",
          "height": 206
        },
        "outputId": "cc415833-bfb9-477a-8767-987248187910"
      },
      "outputs": [
        {
          "output_type": "execute_result",
          "data": {
            "text/plain": [
              "                       Model  Accuracy  Precision   F1Score\n",
              "2     Support Vector Machine      0.68   0.680556  0.753846\n",
              "1                Naive Bayes      0.58   0.580000  0.734177\n",
              "0        Logistic Regression      0.67   0.658228  0.759124\n",
              "4  Gradient Boost Classifier      0.62   0.642857  0.703125\n",
              "3              Decision Tree      0.54   0.615385  0.581818"
            ],
            "text/html": [
              "\n",
              "  <div id=\"df-946d26ae-e255-44e3-b1d8-12c180d61aa5\">\n",
              "    <div class=\"colab-df-container\">\n",
              "      <div>\n",
              "<style scoped>\n",
              "    .dataframe tbody tr th:only-of-type {\n",
              "        vertical-align: middle;\n",
              "    }\n",
              "\n",
              "    .dataframe tbody tr th {\n",
              "        vertical-align: top;\n",
              "    }\n",
              "\n",
              "    .dataframe thead th {\n",
              "        text-align: right;\n",
              "    }\n",
              "</style>\n",
              "<table border=\"1\" class=\"dataframe\">\n",
              "  <thead>\n",
              "    <tr style=\"text-align: right;\">\n",
              "      <th></th>\n",
              "      <th>Model</th>\n",
              "      <th>Accuracy</th>\n",
              "      <th>Precision</th>\n",
              "      <th>F1Score</th>\n",
              "    </tr>\n",
              "  </thead>\n",
              "  <tbody>\n",
              "    <tr>\n",
              "      <th>2</th>\n",
              "      <td>Support Vector Machine</td>\n",
              "      <td>0.68</td>\n",
              "      <td>0.680556</td>\n",
              "      <td>0.753846</td>\n",
              "    </tr>\n",
              "    <tr>\n",
              "      <th>1</th>\n",
              "      <td>Naive Bayes</td>\n",
              "      <td>0.58</td>\n",
              "      <td>0.580000</td>\n",
              "      <td>0.734177</td>\n",
              "    </tr>\n",
              "    <tr>\n",
              "      <th>0</th>\n",
              "      <td>Logistic Regression</td>\n",
              "      <td>0.67</td>\n",
              "      <td>0.658228</td>\n",
              "      <td>0.759124</td>\n",
              "    </tr>\n",
              "    <tr>\n",
              "      <th>4</th>\n",
              "      <td>Gradient Boost Classifier</td>\n",
              "      <td>0.62</td>\n",
              "      <td>0.642857</td>\n",
              "      <td>0.703125</td>\n",
              "    </tr>\n",
              "    <tr>\n",
              "      <th>3</th>\n",
              "      <td>Decision Tree</td>\n",
              "      <td>0.54</td>\n",
              "      <td>0.615385</td>\n",
              "      <td>0.581818</td>\n",
              "    </tr>\n",
              "  </tbody>\n",
              "</table>\n",
              "</div>\n",
              "      <button class=\"colab-df-convert\" onclick=\"convertToInteractive('df-946d26ae-e255-44e3-b1d8-12c180d61aa5')\"\n",
              "              title=\"Convert this dataframe to an interactive table.\"\n",
              "              style=\"display:none;\">\n",
              "        \n",
              "  <svg xmlns=\"http://www.w3.org/2000/svg\" height=\"24px\"viewBox=\"0 0 24 24\"\n",
              "       width=\"24px\">\n",
              "    <path d=\"M0 0h24v24H0V0z\" fill=\"none\"/>\n",
              "    <path d=\"M18.56 5.44l.94 2.06.94-2.06 2.06-.94-2.06-.94-.94-2.06-.94 2.06-2.06.94zm-11 1L8.5 8.5l.94-2.06 2.06-.94-2.06-.94L8.5 2.5l-.94 2.06-2.06.94zm10 10l.94 2.06.94-2.06 2.06-.94-2.06-.94-.94-2.06-.94 2.06-2.06.94z\"/><path d=\"M17.41 7.96l-1.37-1.37c-.4-.4-.92-.59-1.43-.59-.52 0-1.04.2-1.43.59L10.3 9.45l-7.72 7.72c-.78.78-.78 2.05 0 2.83L4 21.41c.39.39.9.59 1.41.59.51 0 1.02-.2 1.41-.59l7.78-7.78 2.81-2.81c.8-.78.8-2.07 0-2.86zM5.41 20L4 18.59l7.72-7.72 1.47 1.35L5.41 20z\"/>\n",
              "  </svg>\n",
              "      </button>\n",
              "      \n",
              "  <style>\n",
              "    .colab-df-container {\n",
              "      display:flex;\n",
              "      flex-wrap:wrap;\n",
              "      gap: 12px;\n",
              "    }\n",
              "\n",
              "    .colab-df-convert {\n",
              "      background-color: #E8F0FE;\n",
              "      border: none;\n",
              "      border-radius: 50%;\n",
              "      cursor: pointer;\n",
              "      display: none;\n",
              "      fill: #1967D2;\n",
              "      height: 32px;\n",
              "      padding: 0 0 0 0;\n",
              "      width: 32px;\n",
              "    }\n",
              "\n",
              "    .colab-df-convert:hover {\n",
              "      background-color: #E2EBFA;\n",
              "      box-shadow: 0px 1px 2px rgba(60, 64, 67, 0.3), 0px 1px 3px 1px rgba(60, 64, 67, 0.15);\n",
              "      fill: #174EA6;\n",
              "    }\n",
              "\n",
              "    [theme=dark] .colab-df-convert {\n",
              "      background-color: #3B4455;\n",
              "      fill: #D2E3FC;\n",
              "    }\n",
              "\n",
              "    [theme=dark] .colab-df-convert:hover {\n",
              "      background-color: #434B5C;\n",
              "      box-shadow: 0px 1px 3px 1px rgba(0, 0, 0, 0.15);\n",
              "      filter: drop-shadow(0px 1px 2px rgba(0, 0, 0, 0.3));\n",
              "      fill: #FFFFFF;\n",
              "    }\n",
              "  </style>\n",
              "\n",
              "      <script>\n",
              "        const buttonEl =\n",
              "          document.querySelector('#df-946d26ae-e255-44e3-b1d8-12c180d61aa5 button.colab-df-convert');\n",
              "        buttonEl.style.display =\n",
              "          google.colab.kernel.accessAllowed ? 'block' : 'none';\n",
              "\n",
              "        async function convertToInteractive(key) {\n",
              "          const element = document.querySelector('#df-946d26ae-e255-44e3-b1d8-12c180d61aa5');\n",
              "          const dataTable =\n",
              "            await google.colab.kernel.invokeFunction('convertToInteractive',\n",
              "                                                     [key], {});\n",
              "          if (!dataTable) return;\n",
              "\n",
              "          const docLinkHtml = 'Like what you see? Visit the ' +\n",
              "            '<a target=\"_blank\" href=https://colab.research.google.com/notebooks/data_table.ipynb>data table notebook</a>'\n",
              "            + ' to learn more about interactive tables.';\n",
              "          element.innerHTML = '';\n",
              "          dataTable['output_type'] = 'display_data';\n",
              "          await google.colab.output.renderOutput(dataTable, element);\n",
              "          const docLink = document.createElement('div');\n",
              "          docLink.innerHTML = docLinkHtml;\n",
              "          element.appendChild(docLink);\n",
              "        }\n",
              "      </script>\n",
              "    </div>\n",
              "  </div>\n",
              "  "
            ]
          },
          "metadata": {},
          "execution_count": 16
        }
      ],
      "source": [
        "scores = [metricas_lr, metricas_nb, metricas_svc, metricas_dt, metricas_gbc]\n",
        "dfscores = pd.DataFrame(scores, columns=['Model','Accuracy', 'Precision', 'F1Score'])\n",
        "dfscores.sort_values(by=list(dfscores.columns), ascending=False)"
      ]
    },
    {
      "cell_type": "code",
      "source": [
        "from matplotlib.colors import LinearSegmentedColormap\n",
        "\n",
        "colors = [(0, 0, 1), (0.2, 0.4, 1), (0.4, 0.6, 1), (0.6, 0.8, 1), (0.7, 0.9, 1)]\n",
        "cmap = LinearSegmentedColormap.from_list('mycmap', colors)\n",
        "dfscores.plot(x='Model', y=['Accuracy', 'Precision', 'F1Score'], kind='bar', colormap=cmap)\n",
        "plt.grid(axis='y')\n",
        "plt.show()\n"
      ],
      "metadata": {
        "colab": {
          "base_uri": "https://localhost:8080/",
          "height": 608
        },
        "id": "Hr2LurDgrfgZ",
        "outputId": "221d4b03-6855-407b-ca05-632a34b1285d"
      },
      "execution_count": null,
      "outputs": [
        {
          "output_type": "display_data",
          "data": {
            "text/plain": [
              "<Figure size 640x480 with 1 Axes>"
            ],
            "image/png": "[encoded data removed]"
          },
          "metadata": {}
        }
      ]
    },
    {
      "cell_type": "markdown",
      "metadata": {
        "id": "Itt9C4M9Q-RU"
      },
      "source": [
        "**En base a los resultados obtenidos el mejor modelo para el analisis en cuestion es Support Vector Machine.**"
      ]
    },
    {
      "cell_type": "markdown",
      "metadata": {
        "id": "m6BFNnLu8PVV"
      },
      "source": []
    },
    {
      "cell_type": "code",
      "execution_count": null,
      "metadata": {
        "id": "oJqT4MxMUGI0"
      },
      "outputs": [],
      "source": [
        "dftest = pd.DataFrame()"
      ]
    },
    {
      "cell_type": "code",
      "execution_count": null,
      "metadata": {
        "id": "1u0WvchqUlS1",
        "colab": {
          "base_uri": "https://localhost:8080/",
          "height": 459
        },
        "outputId": "fe737227-9176-4b57-9a37-e5ee73d33a64"
      },
      "outputs": [
        {
          "output_type": "stream",
          "name": "stdout",
          "text": [
            "Total: 100\n",
            "Errores: -14\n"
          ]
        },
        {
          "output_type": "execute_result",
          "data": {
            "text/plain": [
              "     Y verdadera  Y predecida  Falso\n",
              "457            0            1     -1\n",
              "73             1            1      0\n",
              "231            0            0      0\n",
              "175            1            1      0\n",
              "237            0            0      0\n",
              "..           ...          ...    ...\n",
              "247            1            1      0\n",
              "382            1            1      0\n",
              "19             1            1      0\n",
              "320            1            1      0\n",
              "483            1            1      0\n",
              "\n",
              "[100 rows x 3 columns]"
            ],
            "text/html": [
              "\n",
              "  <div id=\"df-7210a573-ab71-4ad2-ba36-7028a3ea9dc9\">\n",
              "    <div class=\"colab-df-container\">\n",
              "      <div>\n",
              "<style scoped>\n",
              "    .dataframe tbody tr th:only-of-type {\n",
              "        vertical-align: middle;\n",
              "    }\n",
              "\n",
              "    .dataframe tbody tr th {\n",
              "        vertical-align: top;\n",
              "    }\n",
              "\n",
              "    .dataframe thead th {\n",
              "        text-align: right;\n",
              "    }\n",
              "</style>\n",
              "<table border=\"1\" class=\"dataframe\">\n",
              "  <thead>\n",
              "    <tr style=\"text-align: right;\">\n",
              "      <th></th>\n",
              "      <th>Y verdadera</th>\n",
              "      <th>Y predecida</th>\n",
              "      <th>Falso</th>\n",
              "    </tr>\n",
              "  </thead>\n",
              "  <tbody>\n",
              "    <tr>\n",
              "      <th>457</th>\n",
              "      <td>0</td>\n",
              "      <td>1</td>\n",
              "      <td>-1</td>\n",
              "    </tr>\n",
              "    <tr>\n",
              "      <th>73</th>\n",
              "      <td>1</td>\n",
              "      <td>1</td>\n",
              "      <td>0</td>\n",
              "    </tr>\n",
              "    <tr>\n",
              "      <th>231</th>\n",
              "      <td>0</td>\n",
              "      <td>0</td>\n",
              "      <td>0</td>\n",
              "    </tr>\n",
              "    <tr>\n",
              "      <th>175</th>\n",
              "      <td>1</td>\n",
              "      <td>1</td>\n",
              "      <td>0</td>\n",
              "    </tr>\n",
              "    <tr>\n",
              "      <th>237</th>\n",
              "      <td>0</td>\n",
              "      <td>0</td>\n",
              "      <td>0</td>\n",
              "    </tr>\n",
              "    <tr>\n",
              "      <th>...</th>\n",
              "      <td>...</td>\n",
              "      <td>...</td>\n",
              "      <td>...</td>\n",
              "    </tr>\n",
              "    <tr>\n",
              "      <th>247</th>\n",
              "      <td>1</td>\n",
              "      <td>1</td>\n",
              "      <td>0</td>\n",
              "    </tr>\n",
              "    <tr>\n",
              "      <th>382</th>\n",
              "      <td>1</td>\n",
              "      <td>1</td>\n",
              "      <td>0</td>\n",
              "    </tr>\n",
              "    <tr>\n",
              "      <th>19</th>\n",
              "      <td>1</td>\n",
              "      <td>1</td>\n",
              "      <td>0</td>\n",
              "    </tr>\n",
              "    <tr>\n",
              "      <th>320</th>\n",
              "      <td>1</td>\n",
              "      <td>1</td>\n",
              "      <td>0</td>\n",
              "    </tr>\n",
              "    <tr>\n",
              "      <th>483</th>\n",
              "      <td>1</td>\n",
              "      <td>1</td>\n",
              "      <td>0</td>\n",
              "    </tr>\n",
              "  </tbody>\n",
              "</table>\n",
              "<p>100 rows × 3 columns</p>\n",
              "</div>\n",
              "      <button class=\"colab-df-convert\" onclick=\"convertToInteractive('df-7210a573-ab71-4ad2-ba36-7028a3ea9dc9')\"\n",
              "              title=\"Convert this dataframe to an interactive table.\"\n",
              "              style=\"display:none;\">\n",
              "        \n",
              "  <svg xmlns=\"http://www.w3.org/2000/svg\" height=\"24px\"viewBox=\"0 0 24 24\"\n",
              "       width=\"24px\">\n",
              "    <path d=\"M0 0h24v24H0V0z\" fill=\"none\"/>\n",
              "    <path d=\"M18.56 5.44l.94 2.06.94-2.06 2.06-.94-2.06-.94-.94-2.06-.94 2.06-2.06.94zm-11 1L8.5 8.5l.94-2.06 2.06-.94-2.06-.94L8.5 2.5l-.94 2.06-2.06.94zm10 10l.94 2.06.94-2.06 2.06-.94-2.06-.94-.94-2.06-.94 2.06-2.06.94z\"/><path d=\"M17.41 7.96l-1.37-1.37c-.4-.4-.92-.59-1.43-.59-.52 0-1.04.2-1.43.59L10.3 9.45l-7.72 7.72c-.78.78-.78 2.05 0 2.83L4 21.41c.39.39.9.59 1.41.59.51 0 1.02-.2 1.41-.59l7.78-7.78 2.81-2.81c.8-.78.8-2.07 0-2.86zM5.41 20L4 18.59l7.72-7.72 1.47 1.35L5.41 20z\"/>\n",
              "  </svg>\n",
              "      </button>\n",
              "      \n",
              "  <style>\n",
              "    .colab-df-container {\n",
              "      display:flex;\n",
              "      flex-wrap:wrap;\n",
              "      gap: 12px;\n",
              "    }\n",
              "\n",
              "    .colab-df-convert {\n",
              "      background-color: #E8F0FE;\n",
              "      border: none;\n",
              "      border-radius: 50%;\n",
              "      cursor: pointer;\n",
              "      display: none;\n",
              "      fill: #1967D2;\n",
              "      height: 32px;\n",
              "      padding: 0 0 0 0;\n",
              "      width: 32px;\n",
              "    }\n",
              "\n",
              "    .colab-df-convert:hover {\n",
              "      background-color: #E2EBFA;\n",
              "      box-shadow: 0px 1px 2px rgba(60, 64, 67, 0.3), 0px 1px 3px 1px rgba(60, 64, 67, 0.15);\n",
              "      fill: #174EA6;\n",
              "    }\n",
              "\n",
              "    [theme=dark] .colab-df-convert {\n",
              "      background-color: #3B4455;\n",
              "      fill: #D2E3FC;\n",
              "    }\n",
              "\n",
              "    [theme=dark] .colab-df-convert:hover {\n",
              "      background-color: #434B5C;\n",
              "      box-shadow: 0px 1px 3px 1px rgba(0, 0, 0, 0.15);\n",
              "      filter: drop-shadow(0px 1px 2px rgba(0, 0, 0, 0.3));\n",
              "      fill: #FFFFFF;\n",
              "    }\n",
              "  </style>\n",
              "\n",
              "      <script>\n",
              "        const buttonEl =\n",
              "          document.querySelector('#df-7210a573-ab71-4ad2-ba36-7028a3ea9dc9 button.colab-df-convert');\n",
              "        buttonEl.style.display =\n",
              "          google.colab.kernel.accessAllowed ? 'block' : 'none';\n",
              "\n",
              "        async function convertToInteractive(key) {\n",
              "          const element = document.querySelector('#df-7210a573-ab71-4ad2-ba36-7028a3ea9dc9');\n",
              "          const dataTable =\n",
              "            await google.colab.kernel.invokeFunction('convertToInteractive',\n",
              "                                                     [key], {});\n",
              "          if (!dataTable) return;\n",
              "\n",
              "          const docLinkHtml = 'Like what you see? Visit the ' +\n",
              "            '<a target=\"_blank\" href=https://colab.research.google.com/notebooks/data_table.ipynb>data table notebook</a>'\n",
              "            + ' to learn more about interactive tables.';\n",
              "          element.innerHTML = '';\n",
              "          dataTable['output_type'] = 'display_data';\n",
              "          await google.colab.output.renderOutput(dataTable, element);\n",
              "          const docLink = document.createElement('div');\n",
              "          docLink.innerHTML = docLinkHtml;\n",
              "          element.appendChild(docLink);\n",
              "        }\n",
              "      </script>\n",
              "    </div>\n",
              "  </div>\n",
              "  "
            ]
          },
          "metadata": {},
          "execution_count": 19
        }
      ],
      "source": [
        "dftest['Y verdadera'] = y_test\n",
        "dftest['Y predecida'] = y_pred_svc\n",
        "dftest['Falso'] = (dftest['Y verdadera']- dftest['Y predecida'])\n",
        "print('Total: '+str(len(y_test)))\n",
        "print('Errores: ' + str(dftest['Falso'].sum()))\n",
        "dftest"
      ]
    },
    {
      "cell_type": "code",
      "source": [
        "import pandas as pd\n",
        "from sklearn import svm\n",
        "from sklearn.model_selection import train_test_split\n",
        "from sklearn.metrics import f1_score, accuracy_score, precision_score\n",
        "\n",
        "y = Y\n",
        "\n",
        "# Dividir los datos en conjuntos de entrenamiento y prueba\n",
        "X_train, X_test, y_train, y_test = train_test_split(X, y, test_size=0.2, random_state=42)\n",
        "\n",
        "# Definir los kernels a utilizar\n",
        "kernels = ['linear', 'poly', 'rbf', 'sigmoid']\n",
        "\n",
        "# Crear un dataframe para almacenar los resultados\n",
        "results = pd.DataFrame(columns=['Kernel', 'F1-score', 'Accuracy', 'Precision'])\n",
        "\n",
        "# Entrenar y evaluar modelos para cada kernel\n",
        "for kernel in kernels:\n",
        "    # Paso 2: Crear y entrenar el modelo SVM con el kernel actual\n",
        "    model = svm.SVC(kernel=kernel)\n",
        "    model.fit(X_train, y_train)\n",
        "\n",
        "    # Paso 3: Realizar predicciones\n",
        "    y_pred = model.predict(X_test)\n",
        "\n",
        "    # Paso 4: Calcular las métricas de evaluación\n",
        "    f1 = f1_score(y_test, y_pred)\n",
        "    accuracy = accuracy_score(y_test, y_pred)\n",
        "    precision = precision_score(y_test, y_pred)\n",
        "\n",
        "    # Agregar los resultados al dataframe\n",
        "    results = results.append({'Kernel': kernel, 'F1-score': f1, 'Accuracy': accuracy, 'Precision': precision},\n",
        "                             ignore_index=True)\n",
        "\n",
        "# Imprimir el dataframe con los resultados\n",
        "\n",
        "results\n"
      ],
      "metadata": {
        "colab": {
          "base_uri": "https://localhost:8080/",
          "height": 338
        },
        "id": "YnCxsvwt7ElY",
        "outputId": "09a9cf58-c29d-4a13-9c2c-f57ee59c9f5d"
      },
      "execution_count": null,
      "outputs": [
        {
          "output_type": "stream",
          "name": "stderr",
          "text": [
            "<ipython-input-30-095df607c56d>:32: FutureWarning: The frame.append method is deprecated and will be removed from pandas in a future version. Use pandas.concat instead.\n",
            "  results = results.append({'Kernel': kernel, 'F1-score': f1, 'Accuracy': accuracy, 'Precision': precision},\n",
            "<ipython-input-30-095df607c56d>:32: FutureWarning: The frame.append method is deprecated and will be removed from pandas in a future version. Use pandas.concat instead.\n",
            "  results = results.append({'Kernel': kernel, 'F1-score': f1, 'Accuracy': accuracy, 'Precision': precision},\n",
            "<ipython-input-30-095df607c56d>:32: FutureWarning: The frame.append method is deprecated and will be removed from pandas in a future version. Use pandas.concat instead.\n",
            "  results = results.append({'Kernel': kernel, 'F1-score': f1, 'Accuracy': accuracy, 'Precision': precision},\n",
            "<ipython-input-30-095df607c56d>:32: FutureWarning: The frame.append method is deprecated and will be removed from pandas in a future version. Use pandas.concat instead.\n",
            "  results = results.append({'Kernel': kernel, 'F1-score': f1, 'Accuracy': accuracy, 'Precision': precision},\n"
          ]
        },
        {
          "output_type": "execute_result",
          "data": {
            "text/plain": [
              "    Kernel  F1-score  Accuracy  Precision\n",
              "0   linear  0.750000      0.66   0.653846\n",
              "1     poly  0.751880      0.67   0.666667\n",
              "2      rbf  0.877192      0.86   0.862060\n",
              "3  sigmoid  0.744526      0.65   0.645570"
            ],
            "text/html": [
              "\n",
              "  <div id=\"df-150fe0ad-edbf-41b6-8a63-114cb9a802ca\">\n",
              "    <div class=\"colab-df-container\">\n",
              "      <div>\n",
              "<style scoped>\n",
              "    .dataframe tbody tr th:only-of-type {\n",
              "        vertical-align: middle;\n",
              "    }\n",
              "\n",
              "    .dataframe tbody tr th {\n",
              "        vertical-align: top;\n",
              "    }\n",
              "\n",
              "    .dataframe thead th {\n",
              "        text-align: right;\n",
              "    }\n",
              "</style>\n",
              "<table border=\"1\" class=\"dataframe\">\n",
              "  <thead>\n",
              "    <tr style=\"text-align: right;\">\n",
              "      <th></th>\n",
              "      <th>Kernel</th>\n",
              "      <th>F1-score</th>\n",
              "      <th>Accuracy</th>\n",
              "      <th>Precision</th>\n",
              "    </tr>\n",
              "  </thead>\n",
              "  <tbody>\n",
              "    <tr>\n",
              "      <th>0</th>\n",
              "      <td>linear</td>\n",
              "      <td>0.750000</td>\n",
              "      <td>0.66</td>\n",
              "      <td>0.653846</td>\n",
              "    </tr>\n",
              "    <tr>\n",
              "      <th>1</th>\n",
              "      <td>poly</td>\n",
              "      <td>0.751880</td>\n",
              "      <td>0.67</td>\n",
              "      <td>0.666667</td>\n",
              "    </tr>\n",
              "    <tr>\n",
              "      <th>2</th>\n",
              "      <td>rbf</td>\n",
              "      <td>0.877192</td>\n",
              "      <td>0.86</td>\n",
              "      <td>0.862060</td>\n",
              "    </tr>\n",
              "    <tr>\n",
              "      <th>3</th>\n",
              "      <td>sigmoid</td>\n",
              "      <td>0.744526</td>\n",
              "      <td>0.65</td>\n",
              "      <td>0.645570</td>\n",
              "    </tr>\n",
              "  </tbody>\n",
              "</table>\n",
              "</div>\n",
              "      <button class=\"colab-df-convert\" onclick=\"convertToInteractive('df-150fe0ad-edbf-41b6-8a63-114cb9a802ca')\"\n",
              "              title=\"Convert this dataframe to an interactive table.\"\n",
              "              style=\"display:none;\">\n",
              "        \n",
              "  <svg xmlns=\"http://www.w3.org/2000/svg\" height=\"24px\"viewBox=\"0 0 24 24\"\n",
              "       width=\"24px\">\n",
              "    <path d=\"M0 0h24v24H0V0z\" fill=\"none\"/>\n",
              "    <path d=\"M18.56 5.44l.94 2.06.94-2.06 2.06-.94-2.06-.94-.94-2.06-.94 2.06-2.06.94zm-11 1L8.5 8.5l.94-2.06 2.06-.94-2.06-.94L8.5 2.5l-.94 2.06-2.06.94zm10 10l.94 2.06.94-2.06 2.06-.94-2.06-.94-.94-2.06-.94 2.06-2.06.94z\"/><path d=\"M17.41 7.96l-1.37-1.37c-.4-.4-.92-.59-1.43-.59-.52 0-1.04.2-1.43.59L10.3 9.45l-7.72 7.72c-.78.78-.78 2.05 0 2.83L4 21.41c.39.39.9.59 1.41.59.51 0 1.02-.2 1.41-.59l7.78-7.78 2.81-2.81c.8-.78.8-2.07 0-2.86zM5.41 20L4 18.59l7.72-7.72 1.47 1.35L5.41 20z\"/>\n",
              "  </svg>\n",
              "      </button>\n",
              "      \n",
              "  <style>\n",
              "    .colab-df-container {\n",
              "      display:flex;\n",
              "      flex-wrap:wrap;\n",
              "      gap: 12px;\n",
              "    }\n",
              "\n",
              "    .colab-df-convert {\n",
              "      background-color: #E8F0FE;\n",
              "      border: none;\n",
              "      border-radius: 50%;\n",
              "      cursor: pointer;\n",
              "      display: none;\n",
              "      fill: #1967D2;\n",
              "      height: 32px;\n",
              "      padding: 0 0 0 0;\n",
              "      width: 32px;\n",
              "    }\n",
              "\n",
              "    .colab-df-convert:hover {\n",
              "      background-color: #E2EBFA;\n",
              "      box-shadow: 0px 1px 2px rgba(60, 64, 67, 0.3), 0px 1px 3px 1px rgba(60, 64, 67, 0.15);\n",
              "      fill: #174EA6;\n",
              "    }\n",
              "\n",
              "    [theme=dark] .colab-df-convert {\n",
              "      background-color: #3B4455;\n",
              "      fill: #D2E3FC;\n",
              "    }\n",
              "\n",
              "    [theme=dark] .colab-df-convert:hover {\n",
              "      background-color: #434B5C;\n",
              "      box-shadow: 0px 1px 3px 1px rgba(0, 0, 0, 0.15);\n",
              "      filter: drop-shadow(0px 1px 2px rgba(0, 0, 0, 0.3));\n",
              "      fill: #FFFFFF;\n",
              "    }\n",
              "  </style>\n",
              "\n",
              "      <script>\n",
              "        const buttonEl =\n",
              "          document.querySelector('#df-150fe0ad-edbf-41b6-8a63-114cb9a802ca button.colab-df-convert');\n",
              "        buttonEl.style.display =\n",
              "          google.colab.kernel.accessAllowed ? 'block' : 'none';\n",
              "\n",
              "        async function convertToInteractive(key) {\n",
              "          const element = document.querySelector('#df-150fe0ad-edbf-41b6-8a63-114cb9a802ca');\n",
              "          const dataTable =\n",
              "            await google.colab.kernel.invokeFunction('convertToInteractive',\n",
              "                                                     [key], {});\n",
              "          if (!dataTable) return;\n",
              "\n",
              "          const docLinkHtml = 'Like what you see? Visit the ' +\n",
              "            '<a target=\"_blank\" href=https://colab.research.google.com/notebooks/data_table.ipynb>data table notebook</a>'\n",
              "            + ' to learn more about interactive tables.';\n",
              "          element.innerHTML = '';\n",
              "          dataTable['output_type'] = 'display_data';\n",
              "          await google.colab.output.renderOutput(dataTable, element);\n",
              "          const docLink = document.createElement('div');\n",
              "          docLink.innerHTML = docLinkHtml;\n",
              "          element.appendChild(docLink);\n",
              "        }\n",
              "      </script>\n",
              "    </div>\n",
              "  </div>\n",
              "  "
            ]
          },
          "metadata": {},
          "execution_count": 30
        }
      ]
    },
    {
      "cell_type": "code",
      "source": [
        "from matplotlib.colors import LinearSegmentedColormap\n",
        "\n",
        "colors = [(0, 0, 1), (0.2, 0.4, 1), (0.4, 0.6, 1), (0.6, 0.8, 1), (0.7, 0.9, 1)]\n",
        "cmap = LinearSegmentedColormap.from_list('mycmap', colors)\n",
        "results.plot(x='Kernel', y=['Accuracy', 'Precision', 'F1-score'], kind='bar', colormap=cmap)\n",
        "plt.grid(axis='y')\n",
        "plt.show()\n",
        "results"
      ],
      "metadata": {
        "colab": {
          "base_uri": "https://localhost:8080/",
          "height": 648
        },
        "id": "BWkCHMcrH3Lx",
        "outputId": "8459d885-0b03-47a3-f6bf-3f3621d623c2"
      },
      "execution_count": null,
      "outputs": [
        {
          "output_type": "display_data",
          "data": {
            "text/plain": [
              "<Figure size 640x480 with 1 Axes>"
            ],
            "image/png": "[encoded data removed]"
          },
          "metadata": {}
        },
        {
          "output_type": "execute_result",
          "data": {
            "text/plain": [
              "    Kernel  F1-score  Accuracy  Precision\n",
              "0   linear  0.750000      0.66   0.653846\n",
              "1     poly  0.751880      0.67   0.666667\n",
              "2      rbf  0.877192      0.86   0.862060\n",
              "3  sigmoid  0.744526      0.65   0.645570"
            ],
            "text/html": [
              "\n",
              "  <div id=\"df-052da4c9-25b4-44ee-befc-62a66e9f790b\">\n",
              "    <div class=\"colab-df-container\">\n",
              "      <div>\n",
              "<style scoped>\n",
              "    .dataframe tbody tr th:only-of-type {\n",
              "        vertical-align: middle;\n",
              "    }\n",
              "\n",
              "    .dataframe tbody tr th {\n",
              "        vertical-align: top;\n",
              "    }\n",
              "\n",
              "    .dataframe thead th {\n",
              "        text-align: right;\n",
              "    }\n",
              "</style>\n",
              "<table border=\"1\" class=\"dataframe\">\n",
              "  <thead>\n",
              "    <tr style=\"text-align: right;\">\n",
              "      <th></th>\n",
              "      <th>Kernel</th>\n",
              "      <th>F1-score</th>\n",
              "      <th>Accuracy</th>\n",
              "      <th>Precision</th>\n",
              "    </tr>\n",
              "  </thead>\n",
              "  <tbody>\n",
              "    <tr>\n",
              "      <th>0</th>\n",
              "      <td>linear</td>\n",
              "      <td>0.750000</td>\n",
              "      <td>0.66</td>\n",
              "      <td>0.653846</td>\n",
              "    </tr>\n",
              "    <tr>\n",
              "      <th>1</th>\n",
              "      <td>poly</td>\n",
              "      <td>0.751880</td>\n",
              "      <td>0.67</td>\n",
              "      <td>0.666667</td>\n",
              "    </tr>\n",
              "    <tr>\n",
              "      <th>2</th>\n",
              "      <td>rbf</td>\n",
              "      <td>0.877192</td>\n",
              "      <td>0.86</td>\n",
              "      <td>0.862060</td>\n",
              "    </tr>\n",
              "    <tr>\n",
              "      <th>3</th>\n",
              "      <td>sigmoid</td>\n",
              "      <td>0.744526</td>\n",
              "      <td>0.65</td>\n",
              "      <td>0.645570</td>\n",
              "    </tr>\n",
              "  </tbody>\n",
              "</table>\n",
              "</div>\n",
              "      <button class=\"colab-df-convert\" onclick=\"convertToInteractive('df-052da4c9-25b4-44ee-befc-62a66e9f790b')\"\n",
              "              title=\"Convert this dataframe to an interactive table.\"\n",
              "              style=\"display:none;\">\n",
              "        \n",
              "  <svg xmlns=\"http://www.w3.org/2000/svg\" height=\"24px\"viewBox=\"0 0 24 24\"\n",
              "       width=\"24px\">\n",
              "    <path d=\"M0 0h24v24H0V0z\" fill=\"none\"/>\n",
              "    <path d=\"M18.56 5.44l.94 2.06.94-2.06 2.06-.94-2.06-.94-.94-2.06-.94 2.06-2.06.94zm-11 1L8.5 8.5l.94-2.06 2.06-.94-2.06-.94L8.5 2.5l-.94 2.06-2.06.94zm10 10l.94 2.06.94-2.06 2.06-.94-2.06-.94-.94-2.06-.94 2.06-2.06.94z\"/><path d=\"M17.41 7.96l-1.37-1.37c-.4-.4-.92-.59-1.43-.59-.52 0-1.04.2-1.43.59L10.3 9.45l-7.72 7.72c-.78.78-.78 2.05 0 2.83L4 21.41c.39.39.9.59 1.41.59.51 0 1.02-.2 1.41-.59l7.78-7.78 2.81-2.81c.8-.78.8-2.07 0-2.86zM5.41 20L4 18.59l7.72-7.72 1.47 1.35L5.41 20z\"/>\n",
              "  </svg>\n",
              "      </button>\n",
              "      \n",
              "  <style>\n",
              "    .colab-df-container {\n",
              "      display:flex;\n",
              "      flex-wrap:wrap;\n",
              "      gap: 12px;\n",
              "    }\n",
              "\n",
              "    .colab-df-convert {\n",
              "      background-color: #E8F0FE;\n",
              "      border: none;\n",
              "      border-radius: 50%;\n",
              "      cursor: pointer;\n",
              "      display: none;\n",
              "      fill: #1967D2;\n",
              "      height: 32px;\n",
              "      padding: 0 0 0 0;\n",
              "      width: 32px;\n",
              "    }\n",
              "\n",
              "    .colab-df-convert:hover {\n",
              "      background-color: #E2EBFA;\n",
              "      box-shadow: 0px 1px 2px rgba(60, 64, 67, 0.3), 0px 1px 3px 1px rgba(60, 64, 67, 0.15);\n",
              "      fill: #174EA6;\n",
              "    }\n",
              "\n",
              "    [theme=dark] .colab-df-convert {\n",
              "      background-color: #3B4455;\n",
              "      fill: #D2E3FC;\n",
              "    }\n",
              "\n",
              "    [theme=dark] .colab-df-convert:hover {\n",
              "      background-color: #434B5C;\n",
              "      box-shadow: 0px 1px 3px 1px rgba(0, 0, 0, 0.15);\n",
              "      filter: drop-shadow(0px 1px 2px rgba(0, 0, 0, 0.3));\n",
              "      fill: #FFFFFF;\n",
              "    }\n",
              "  </style>\n",
              "\n",
              "      <script>\n",
              "        const buttonEl =\n",
              "          document.querySelector('#df-052da4c9-25b4-44ee-befc-62a66e9f790b button.colab-df-convert');\n",
              "        buttonEl.style.display =\n",
              "          google.colab.kernel.accessAllowed ? 'block' : 'none';\n",
              "\n",
              "        async function convertToInteractive(key) {\n",
              "          const element = document.querySelector('#df-052da4c9-25b4-44ee-befc-62a66e9f790b');\n",
              "          const dataTable =\n",
              "            await google.colab.kernel.invokeFunction('convertToInteractive',\n",
              "                                                     [key], {});\n",
              "          if (!dataTable) return;\n",
              "\n",
              "          const docLinkHtml = 'Like what you see? Visit the ' +\n",
              "            '<a target=\"_blank\" href=https://colab.research.google.com/notebooks/data_table.ipynb>data table notebook</a>'\n",
              "            + ' to learn more about interactive tables.';\n",
              "          element.innerHTML = '';\n",
              "          dataTable['output_type'] = 'display_data';\n",
              "          await google.colab.output.renderOutput(dataTable, element);\n",
              "          const docLink = document.createElement('div');\n",
              "          docLink.innerHTML = docLinkHtml;\n",
              "          element.appendChild(docLink);\n",
              "        }\n",
              "      </script>\n",
              "    </div>\n",
              "  </div>\n",
              "  "
            ]
          },
          "metadata": {},
          "execution_count": 31
        }
      ]
    },
    {
      "cell_type": "code",
      "source": [
        "from sklearn.svm import LinearSVC\n",
        "from sklearn.metrics import accuracy_score\n",
        "from sklearn.model_selection import train_test_split\n",
        "import matplotlib.pyplot as plt\n",
        "import numpy as np\n",
        "\n",
        "# Dividir datos en train y test\n",
        "X_train, X_test, y_train, y_test = train_test_split(X, Y, test_size=0.2, random_state=42)\n",
        "\n",
        "# Crear el modelo SVM\n",
        "model = svm.SVC(kernel='rbf')\n",
        "\n",
        "# Listas para guardar los errores de entrenamiento y prueba\n",
        "train_errors = []\n",
        "test_errors = []\n",
        "\n",
        "# Lista de valores de complejidad\n",
        "complexities = np.linspace(0.1, 10, num=10)  # Rango de complejidad de 0.1 a 10 con 10 puntos\n",
        "\n",
        "\n",
        "for complexity in complexities:\n",
        "    # Configurar el valor de complejidad en el modelo SVM\n",
        "    model.set_params(C=complexity)\n",
        "\n",
        "    # Entrenar el modelo\n",
        "    model.fit(X_train, y_train)\n",
        "\n",
        "    # Calcular las predicciones en los conjuntos de entrenamiento y prueba\n",
        "    y_train_pred = model.predict(X_train)\n",
        "    y_test_pred = model.predict(X_test)\n",
        "\n",
        "    # Calcular los errores de entrenamiento y prueba\n",
        "    train_error = 1 - accuracy_score(y_train, y_train_pred)\n",
        "    test_error = 1 - accuracy_score(y_test, y_test_pred)\n",
        "\n",
        "    # Guardar los errores en las listas\n",
        "    train_errors.append(train_error)\n",
        "    test_errors.append(test_error)\n",
        "\n",
        "# Crear un gráfico de líneas\n",
        "plt.plot(complexities, train_errors, label='Train Error')\n",
        "plt.plot(complexities, test_errors, label='Test Error')\n",
        "\n",
        "# Agregar etiquetas y leyenda\n",
        "plt.xlabel('Complejidad')\n",
        "plt.ylabel('Error')\n",
        "plt.legend()\n",
        "\n",
        "# Mostrar el gráfico\n",
        "plt.show()\n"
      ],
      "metadata": {
        "colab": {
          "base_uri": "https://localhost:8080/",
          "height": 449
        },
        "id": "8XIPfHZk_pW9",
        "outputId": "b6fa4671-7b82-434b-fab0-9d70552dc3f0"
      },
      "execution_count": null,
      "outputs": [
        {
          "output_type": "display_data",
          "data": {
            "text/plain": [
              "<Figure size 640x480 with 1 Axes>"
            ],
            "image/png": "[encoded data removed]"
          },
          "metadata": {}
        }
      ]
    },
    {
      "cell_type": "code",
      "source": [],
      "metadata": {
        "id": "IesJvi_SGzDh"
      },
      "execution_count": null,
      "outputs": []
    },
    {
      "cell_type": "code",
      "source": [
        "import numpy as np\n",
        "import matplotlib.pyplot as plt\n",
        "from sklearn.model_selection import train_test_split\n",
        "from sklearn.svm import SVC\n",
        "from sklearn.metrics import roc_curve, roc_auc_score\n",
        "\n",
        "# Dividir los datos en conjuntos de entrenamiento y prueba\n",
        "X_train, X_test, y_train, y_test = train_test_split(X, y, test_size=0.2, random_state=42)\n",
        "\n",
        "# Crear y entrenar el modelo SVM con kernel RBF\n",
        "model = SVC(kernel='rbf', probability=True)\n",
        "model.fit(X_train, y_train)\n",
        "\n",
        "# Obtener las probabilidades de clase predichas\n",
        "y_pred_prob = model.predict_proba(X_test)[:, 1]\n",
        "\n",
        "# Calcular la tasa de verdaderos positivos (TPR) y la tasa de falsos positivos (FPR)\n",
        "fpr, tpr, thresholds = roc_curve(y_test, y_pred_prob)\n",
        "\n",
        "# Calcular el área bajo la curva ROC (AUC)\n",
        "auc = roc_auc_score(y_test, y_pred_prob)\n",
        "\n",
        "# Graficar la curva ROC\n",
        "plt.plot(fpr, tpr, label='ROC curve (AUC = {:.2f})'.format(auc))\n",
        "plt.plot([0, 1], [0, 1], 'k--', label='Random')\n",
        "plt.xlabel('False Positive Rate (FPR)')\n",
        "plt.ylabel('True Positive Rate (TPR)')\n",
        "plt.title('Receiver Operating Characteristic (ROC)')\n",
        "plt.legend()\n",
        "plt.show()\n"
      ],
      "metadata": {
        "colab": {
          "base_uri": "https://localhost:8080/",
          "height": 472
        },
        "id": "W00OStPW_Syt",
        "outputId": "caebf3b4-6fd4-4b11-b852-eb99d51d5e7b"
      },
      "execution_count": null,
      "outputs": [
        {
          "output_type": "display_data",
          "data": {
            "text/plain": [
              "<Figure size 640x480 with 1 Axes>"
            ],
            "image/png": "[encoded data removed]"
          },
          "metadata": {}
        }
      ]
    },
    {
      "cell_type": "markdown",
      "source": [
        "# Predecir un nuevo dato"
      ],
      "metadata": {
        "id": "M2DMsoCRgQAT"
      }
    },
    {
      "cell_type": "code",
      "source": [
        "from sklearn.model_selection import train_test_split\n",
        "from sklearn.svm import SVC\n",
        "from sklearn.metrics import f1_score\n",
        "\n",
        "# Divide tus datos en conjuntos de entrenamiento y prueba\n",
        "X_train, X_test, y_train, y_test = train_test_split(X, y, test_size=0.2, random_state=42)\n",
        "\n",
        "# Crea una instancia del clasificador SVM con kernel RBF\n",
        "svm = SVC(kernel='rbf')\n",
        "\n",
        "# Entrena el modelo con los datos de entrenamiento\n",
        "svm.fit(X_train, y_train)\n",
        "\n",
        "# Realiza predicciones en el conjunto de prueba\n",
        "y_pred = svm.predict(X_test)\n"
      ],
      "metadata": {
        "id": "v69JuNFWghpp"
      },
      "execution_count": 34,
      "outputs": []
    },
    {
      "cell_type": "code",
      "source": [
        "# Supongamos que tienes una matriz X_new con los 6 nuevos datos\n",
        "# Utiliza el modelo SVM entrenado para predecir las etiquetas correspondientes\n",
        "y_new_pred = svm.predict(X_new)\n",
        "\n",
        "# Imprime las predicciones\n",
        "print(\"Predicciones para los nuevos datos:\")\n",
        "print(y_new_pred)\n"
      ],
      "metadata": {
        "colab": {
          "base_uri": "https://localhost:8080/"
        },
        "id": "VFq7FPNehKu_",
        "outputId": "2364a7dc-5b8a-422b-8070-058b15e8c2cc"
      },
      "execution_count": null,
      "outputs": [
        {
          "output_type": "stream",
          "name": "stdout",
          "text": [
            "Predicciones para los nuevos datos:\n",
            "[0 1 1 0 0]\n"
          ]
        }
      ]
    },
    {
      "cell_type": "code",
      "source": [
        "df['name'].tail(5)"
      ],
      "metadata": {
        "colab": {
          "base_uri": "https://localhost:8080/"
        },
        "id": "5CETjZfDhP7w",
        "outputId": "3e2dc424-550f-4eea-a95b-1a517a021f62"
      },
      "execution_count": null,
      "outputs": [
        {
          "output_type": "execute_result",
          "data": {
            "text/plain": [
              "491    NORWEGIAN CRUISE LINE HOLDIN\n",
              "492               NEWELL BRANDS INC\n",
              "493                ZIONS BANCORP NA\n",
              "494             DISH NETWORK CORP-A\n",
              "495           LINCOLN NATIONAL CORP\n",
              "Name: name, dtype: object"
            ]
          },
          "metadata": {},
          "execution_count": 27
        }
      ]
    },
    {
      "cell_type": "code",
      "source": [
        "prediccion = pd.DataFrame()\n",
        "prediccion['Empresa'] = df['name'].tail(5)\n",
        "prediccion['Predicción'] = y_new_pred\n",
        "prediccion['Real'] = df['performance'].tail(5)\n",
        "prediccion"
      ],
      "metadata": {
        "colab": {
          "base_uri": "https://localhost:8080/",
          "height": 206
        },
        "id": "gYtvB4xXlJVO",
        "outputId": "061a4e0e-b8e8-45e0-8923-b661d07f2f38"
      },
      "execution_count": null,
      "outputs": [
        {
          "output_type": "execute_result",
          "data": {
            "text/plain": [
              "                          Empresa  Predicción  Real\n",
              "491  NORWEGIAN CRUISE LINE HOLDIN           0     0\n",
              "492             NEWELL BRANDS INC           1     0\n",
              "493              ZIONS BANCORP NA           1     1\n",
              "494           DISH NETWORK CORP-A           0     0\n",
              "495         LINCOLN NATIONAL CORP           0     0"
            ],
            "text/html": [
              "\n",
              "  <div id=\"df-b1b31d93-acea-48aa-9ba3-c403f78c8ba7\">\n",
              "    <div class=\"colab-df-container\">\n",
              "      <div>\n",
              "<style scoped>\n",
              "    .dataframe tbody tr th:only-of-type {\n",
              "        vertical-align: middle;\n",
              "    }\n",
              "\n",
              "    .dataframe tbody tr th {\n",
              "        vertical-align: top;\n",
              "    }\n",
              "\n",
              "    .dataframe thead th {\n",
              "        text-align: right;\n",
              "    }\n",
              "</style>\n",
              "<table border=\"1\" class=\"dataframe\">\n",
              "  <thead>\n",
              "    <tr style=\"text-align: right;\">\n",
              "      <th></th>\n",
              "      <th>Empresa</th>\n",
              "      <th>Predicción</th>\n",
              "      <th>Real</th>\n",
              "    </tr>\n",
              "  </thead>\n",
              "  <tbody>\n",
              "    <tr>\n",
              "      <th>491</th>\n",
              "      <td>NORWEGIAN CRUISE LINE HOLDIN</td>\n",
              "      <td>0</td>\n",
              "      <td>0</td>\n",
              "    </tr>\n",
              "    <tr>\n",
              "      <th>492</th>\n",
              "      <td>NEWELL BRANDS INC</td>\n",
              "      <td>1</td>\n",
              "      <td>0</td>\n",
              "    </tr>\n",
              "    <tr>\n",
              "      <th>493</th>\n",
              "      <td>ZIONS BANCORP NA</td>\n",
              "      <td>1</td>\n",
              "      <td>1</td>\n",
              "    </tr>\n",
              "    <tr>\n",
              "      <th>494</th>\n",
              "      <td>DISH NETWORK CORP-A</td>\n",
              "      <td>0</td>\n",
              "      <td>0</td>\n",
              "    </tr>\n",
              "    <tr>\n",
              "      <th>495</th>\n",
              "      <td>LINCOLN NATIONAL CORP</td>\n",
              "      <td>0</td>\n",
              "      <td>0</td>\n",
              "    </tr>\n",
              "  </tbody>\n",
              "</table>\n",
              "</div>\n",
              "      <button class=\"colab-df-convert\" onclick=\"convertToInteractive('df-b1b31d93-acea-48aa-9ba3-c403f78c8ba7')\"\n",
              "              title=\"Convert this dataframe to an interactive table.\"\n",
              "              style=\"display:none;\">\n",
              "        \n",
              "  <svg xmlns=\"http://www.w3.org/2000/svg\" height=\"24px\"viewBox=\"0 0 24 24\"\n",
              "       width=\"24px\">\n",
              "    <path d=\"M0 0h24v24H0V0z\" fill=\"none\"/>\n",
              "    <path d=\"M18.56 5.44l.94 2.06.94-2.06 2.06-.94-2.06-.94-.94-2.06-.94 2.06-2.06.94zm-11 1L8.5 8.5l.94-2.06 2.06-.94-2.06-.94L8.5 2.5l-.94 2.06-2.06.94zm10 10l.94 2.06.94-2.06 2.06-.94-2.06-.94-.94-2.06-.94 2.06-2.06.94z\"/><path d=\"M17.41 7.96l-1.37-1.37c-.4-.4-.92-.59-1.43-.59-.52 0-1.04.2-1.43.59L10.3 9.45l-7.72 7.72c-.78.78-.78 2.05 0 2.83L4 21.41c.39.39.9.59 1.41.59.51 0 1.02-.2 1.41-.59l7.78-7.78 2.81-2.81c.8-.78.8-2.07 0-2.86zM5.41 20L4 18.59l7.72-7.72 1.47 1.35L5.41 20z\"/>\n",
              "  </svg>\n",
              "      </button>\n",
              "      \n",
              "  <style>\n",
              "    .colab-df-container {\n",
              "      display:flex;\n",
              "      flex-wrap:wrap;\n",
              "      gap: 12px;\n",
              "    }\n",
              "\n",
              "    .colab-df-convert {\n",
              "      background-color: #E8F0FE;\n",
              "      border: none;\n",
              "      border-radius: 50%;\n",
              "      cursor: pointer;\n",
              "      display: none;\n",
              "      fill: #1967D2;\n",
              "      height: 32px;\n",
              "      padding: 0 0 0 0;\n",
              "      width: 32px;\n",
              "    }\n",
              "\n",
              "    .colab-df-convert:hover {\n",
              "      background-color: #E2EBFA;\n",
              "      box-shadow: 0px 1px 2px rgba(60, 64, 67, 0.3), 0px 1px 3px 1px rgba(60, 64, 67, 0.15);\n",
              "      fill: #174EA6;\n",
              "    }\n",
              "\n",
              "    [theme=dark] .colab-df-convert {\n",
              "      background-color: #3B4455;\n",
              "      fill: #D2E3FC;\n",
              "    }\n",
              "\n",
              "    [theme=dark] .colab-df-convert:hover {\n",
              "      background-color: #434B5C;\n",
              "      box-shadow: 0px 1px 3px 1px rgba(0, 0, 0, 0.15);\n",
              "      filter: drop-shadow(0px 1px 2px rgba(0, 0, 0, 0.3));\n",
              "      fill: #FFFFFF;\n",
              "    }\n",
              "  </style>\n",
              "\n",
              "      <script>\n",
              "        const buttonEl =\n",
              "          document.querySelector('#df-b1b31d93-acea-48aa-9ba3-c403f78c8ba7 button.colab-df-convert');\n",
              "        buttonEl.style.display =\n",
              "          google.colab.kernel.accessAllowed ? 'block' : 'none';\n",
              "\n",
              "        async function convertToInteractive(key) {\n",
              "          const element = document.querySelector('#df-b1b31d93-acea-48aa-9ba3-c403f78c8ba7');\n",
              "          const dataTable =\n",
              "            await google.colab.kernel.invokeFunction('convertToInteractive',\n",
              "                                                     [key], {});\n",
              "          if (!dataTable) return;\n",
              "\n",
              "          const docLinkHtml = 'Like what you see? Visit the ' +\n",
              "            '<a target=\"_blank\" href=https://colab.research.google.com/notebooks/data_table.ipynb>data table notebook</a>'\n",
              "            + ' to learn more about interactive tables.';\n",
              "          element.innerHTML = '';\n",
              "          dataTable['output_type'] = 'display_data';\n",
              "          await google.colab.output.renderOutput(dataTable, element);\n",
              "          const docLink = document.createElement('div');\n",
              "          docLink.innerHTML = docLinkHtml;\n",
              "          element.appendChild(docLink);\n",
              "        }\n",
              "      </script>\n",
              "    </div>\n",
              "  </div>\n",
              "  "
            ]
          },
          "metadata": {},
          "execution_count": 28
        }
      ]
    }
  ],
  "metadata": {
    "colab": {
      "provenance": [],
      "collapsed_sections": [
        "kU1X5SNp7vVb"
      ]
    },
    "kernelspec": {
      "display_name": "Python 3",
      "name": "python3"
    },
    "language_info": {
      "name": "python"
    }
  },
  "nbformat": 4,
  "nbformat_minor": 0
}